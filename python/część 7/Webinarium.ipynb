{
 "cells": [
  {
   "cell_type": "markdown",
   "metadata": {},
   "source": [
    "# Czym jest programowanie funkcyjne\n",
    "\n",
    "W ostatnich latach została bardzo znacząco rozwinęła się nowa koncepcja programowania zwana programowaniem funkcyjnym. I dzisiejsze szkolenie pozwoli nam zapoznać sie z podstawowymi pojęciami tego co ono dotyczy.\n",
    "\n",
    "* Okazuje się, że istnieje inny sposób formułowania myśli w kod. \n",
    "* Sposób, który w znacznej mierze rezygnuje z korzystania z pętli, warunków (w taki sposób jak my ich używamy)\n",
    "* Posługujący się pojęciami takimi jak niezmienniczość, funkcja czysta, efekt uboczny.\n",
    "* Wsród największych zalet jest możliwość współbierznego wykonywania naszych programów. \n",
    "\n",
    "## Rzeczowniki, czasowniki\n",
    "\n",
    "W różnych opracowaniach często próbuje się budować metaforę dla tego czym jest FP dla choćby programowania obiektowego porównując rolę czasowników i rzeczowników. Uporządkujmy to\n",
    "\n",
    "* Programowanie takie jakie znamy obecnie to programowanie imperatywne. Program składa się ze zmiennych. Na tych zmiennych za pomocą instrukcji języka wykonywane są zmiany.\n",
    "* Szczególnie w programowaniu obiektowym dostrzegamy podział programu na obiekty, które się ze sobą komunikują, składają jedne z drugich i ciągle zmieniają jak długo działa nasz program.\n",
    "* Te zmienne i te obiekty to rzeczowniki w tej metaforze.\n",
    "* Tak jak tworzyliśmy zmienne do przechowywania danych, tak w FP tworzymy zmienne przechowujące czynności (funkcje) które chcemy wykonywać na naszych zbiorach danych.\n"
   ]
  },
  {
   "cell_type": "markdown",
   "metadata": {},
   "source": [
    "\n",
    "## Stop\n",
    "\n",
    "Rozważmy przykład i to bliski Państwa doświadczeniom. \n",
    "\n",
    "_W klasie odbyła się praca klasowa. I teraz mamy 20-30 prac uczniów do sprawdzenia. Jak z tym postąpimy?_\n",
    "\n",
    "### Wersja klasyczna\n",
    "\n",
    "Możemy w domu usiaść przy biurku. Położyć na nim stos prac, wziąć długopis i zabrać się do pracy\n",
    "\n",
    "```python\n",
    "wynik = {}\n",
    "for praca in kupka_sprawdzianow:\n",
    "    imie, nazwisko = praca.autor.split(' ')\n",
    "    punkty = 0\n",
    "    # zadanie 1\n",
    "    zadanie = praca.zadanie[0]\n",
    "    if zadanie.odpowiedz == 7.32:\n",
    "        punkty += 1\n",
    "    elif zadanie.odpowiedx == 7:\n",
    "        punkty += 0.5\n",
    "    ...\n",
    "    # wyznacz ocene\n",
    "    if punkty > 10:\n",
    "        ocena = 6\n",
    "    elif punkty > 8:\n",
    "        ocena = 5\n",
    "    ...\n",
    "    wyniki[nazwisko+' '+imie] = ocena\n",
    "\n",
    "```"
   ]
  },
  {
   "cell_type": "markdown",
   "metadata": {},
   "source": [
    "## Wersja futurystyczna\n",
    "\n",
    "Możemy rozdać uczniom prace przez nich napisane (niekoniecznie tak aby każdy dostał swoją, niekoniecznie nawet tej samej klasie) oraz przekazać im listę czynności jakie trzeba wykonać by je sprawdzić.\n",
    "\n",
    "Zalety:\n",
    "* Przyśpieszenie sprawdzania (im więcej prac tym zysk jest większy)\n",
    "* Brak oszustw przy sprawdzaniu (tricky!)\n",
    "\n",
    "Ograniczenia:\n",
    "* Instrukcja musi być kompletna (gotowa przed rozpoczęciem sprawdzania).\n",
    "* Po rozdaniu instrukcji nic nie można już w niej zmieniać.\n",
    "* Nie można np. porównać dwóch prac.\n",
    "* Nie można ocenić na dwie różne oceny tak samo rozwiązanego zadania. (patrz funkcja czysta!)\n",
    "* Jeśli do sprawdzenia potrzebne są jakieś wartości to muszą być stałe (patrz niezmienniczość!)"
   ]
  },
  {
   "cell_type": "markdown",
   "metadata": {},
   "source": [
    "# Wprowadzenie do programowania funkcyjnego\n",
    "\n",
    "W dominującej części zadań systemów komputerowych wyglądają one tak, że mamy bardzo duży zbiór pewnych danych (kolekcja) i czynności jakie na nich chcemy wykonać.\n",
    "\n",
    "W programowaniu klasycznym rozwiązalibyśmy to w sposób według schematu\n",
    "\n",
    "```python\n",
    "for element in kolekcja:\n",
    "    czynnosc(element)\n",
    "```\n",
    "\n",
    "Można by podsumować opisem:\n",
    "* rozkładamy duże zbiory na małe elementy, i\n",
    "* wykonujemy na nich z osobna ciągi czynności\n",
    "\n",
    "W FP unikamy rozkładania dużych kolekcji - zamiast tego korzystamy z tzw. funktorów. Schematów łączenia zbiorów danych i czynności. Przykładamy takich funktorów są:\n",
    "\n",
    "* map - przekształć `map(czynnosc, dane)`.\n",
    "* filter - wybierz `filter(sprawdz_czy_pasuje, dane)`.\n",
    "* reduce - podsumuj `reduce(generuj_podsumowania, dane)`,\n",
    "* inne ...\n",
    "\n",
    "Zauważmy, że nikt nam tutaj nie gwarantuje, że np. dane będą przetwarzane w odpowiedniej kolejności. Stąd pojawia się kolejny warunek\n",
    "\n",
    "*Czynności muszą być funkcjami czystymi* \n",
    "\n",
    "Powiemy, że coś jest funkcją czystą jeśli jedynym efektem przez nią wywołanym jest to co zostało przekazane przez operacje `return`\n",
    "\n",
    "Wydaje się to dość oczywiste, ale:\n",
    "\n",
    "* wynik funkcji musi zależeć wyłącznie od przekazanych jej parametrów,\n",
    "* żadnych odwołań do (zmieniających się) zmiennych globalnych, \n",
    "* żadnych zapisów do plików, wyświetleń, odwołań do baz danych.\n",
    "\n",
    "Wszystko powyższe i wszystko inne co narusza czystość danej funkcji nazywane jest _efektem ubocznym_. W FP kontrolujemy i monitorujemy wystąpienia efektów ubocznych.\n",
    "\n",
    "## Lambdy\n",
    "\n",
    "Szczególnie często w programowaniu funkcyjnym wykorzystywany jest specjalny rodzaj funkcji nazywany lambdą. To jej krótki i minimalistyczna odmiana, za to idealna jeśli chcemy \n",
    "szybko zdefiniować prostą operację.\n",
    "\n",
    "np.\n"
   ]
  },
  {
   "cell_type": "code",
   "execution_count": 3,
   "metadata": {},
   "outputs": [
    {
     "data": {
      "text/plain": [
       "[False, True, True, False]"
      ]
     },
     "execution_count": 3,
     "metadata": {},
     "output_type": "execute_result"
    }
   ],
   "source": [
    "def czy_podzielne_przez_5(x):\n",
    "    return x % 5 == 0\n",
    "\n",
    "result = []\n",
    "for liczba in (3,5,10,17):\n",
    "    result.append(czy_podzielne_przez_5(liczba))\n",
    "result"
   ]
  },
  {
   "cell_type": "markdown",
   "metadata": {},
   "source": [
    "zamiast tak podanej funkcji możemy po prostu użyć lambdy"
   ]
  },
  {
   "cell_type": "code",
   "execution_count": 5,
   "metadata": {},
   "outputs": [
    {
     "data": {
      "text/plain": [
       "[False, True, True, False]"
      ]
     },
     "execution_count": 5,
     "metadata": {},
     "output_type": "execute_result"
    }
   ],
   "source": [
    "list(map(lambda x : x%5 == 0, (3,5,10,17)))"
   ]
  },
  {
   "cell_type": "markdown",
   "metadata": {},
   "source": [
    "## Przykładowe użycia funktorów\n",
    "\n",
    "Obejrzymy efekt działania kolejno map:"
   ]
  },
  {
   "cell_type": "code",
   "execution_count": 14,
   "metadata": {},
   "outputs": [
    {
     "name": "stdout",
     "output_type": "stream",
     "text": [
      "[0, 1, 2, 3, 4, 5, 0, 1, 2, 3, 4, 5, 0, 1, 2, 3, 4, 5, 0, 1, 2, 3, 4, 5, 0, 1, 2, 3, 4, 5, 0, 1, 2, 3, 4, 5, 0, 1, 2, 3, 4, 5, 0, 1, 2, 3, 4, 5, 0, 1]\n"
     ]
    }
   ],
   "source": [
    "lista = [i for i in range(0,50)]\n",
    "reszty = list(map(lambda i : i%6, lista))\n",
    "print(reszty)"
   ]
  },
  {
   "cell_type": "markdown",
   "metadata": {},
   "source": [
    "filter"
   ]
  },
  {
   "cell_type": "code",
   "execution_count": 15,
   "metadata": {},
   "outputs": [
    {
     "name": "stdout",
     "output_type": "stream",
     "text": [
      "[0, 6, 12, 18, 24, 30, 36, 42, 48]\n"
     ]
    }
   ],
   "source": [
    "lista = [i for i in range(0,50)]\n",
    "podzielne_na_6 = list(filter(lambda i : i%6 == 0, lista))\n",
    "print(podzielne_na_6)"
   ]
  },
  {
   "cell_type": "markdown",
   "metadata": {},
   "source": [
    "i trudnego początkowo - reduce"
   ]
  },
  {
   "cell_type": "code",
   "execution_count": 16,
   "metadata": {},
   "outputs": [
    {
     "data": {
      "text/plain": [
       "216"
      ]
     },
     "execution_count": 16,
     "metadata": {},
     "output_type": "execute_result"
    }
   ],
   "source": [
    "from functools import reduce\n",
    "suma = reduce(lambda x, y : x+ y, podzielne_na_6)\n",
    "suma"
   ]
  },
  {
   "cell_type": "markdown",
   "metadata": {},
   "source": [
    "Warto wyjaśnić jak wpływa lambda na generowanie podsumowania. Mamy początkowo tablicę \n",
    "```\n",
    "[0, 6, 12, 18, 24, 30, 36, 42, 48]\n",
    "```\n",
    "nasz czynność jest stosowana kolejno od początku (choć nie musi być kolejno!) do elemenów naszego zbioru. Na początku pod x, y trafiają 0 oraz 6. I tablica powyżej zmienia się w \n",
    "\n",
    "```\n",
    "[6, 12, 18, 24, 30, 36, 42, 48]\n",
    "```\n",
    "\n",
    "Po drugim użyciu\n",
    "```\n",
    "[18, 18, 24, 30, 36, 42, 48]\n",
    "```\n",
    "\n",
    "Po trzecim użyciu\n",
    "```\n",
    "[36, 24, 30, 36, 42, 48]\n",
    "```\n",
    "i dalej\n",
    "```\n",
    "[60, 30, 36, 42, 48]\n",
    "[90, 36, 42, 48]\n",
    "[126, 42, 48]\n",
    "[168, 48]\n",
    "[216]\n",
    "```\n",
    "Stąd wynik redukcji to 216. Bez obejrzenia sobie tego przykładu trudno sobie wyobrazić skąd bierz się nazwa reduce/redukcja."
   ]
  },
  {
   "cell_type": "code",
   "execution_count": 11,
   "metadata": {},
   "outputs": [
    {
     "data": {
      "text/plain": [
       "[]"
      ]
     },
     "execution_count": 11,
     "metadata": {},
     "output_type": "execute_result"
    }
   ],
   "source": [
    "list(podzielne_na_6)"
   ]
  },
  {
   "cell_type": "markdown",
   "metadata": {},
   "source": [
    "## Porównanie programowania imperatywnego i funkcyjnego\n",
    "\n",
    "Rozważmy zadanie _Dla liczb od 0 do 9999 znaleźć tych których kwadraty są podzielne przez 5 lub 7 i policzyć średnią tych kwadratów._\n",
    "\n",
    "klasyczny program miałby postać"
   ]
  },
  {
   "cell_type": "code",
   "execution_count": 17,
   "metadata": {},
   "outputs": [
    {
     "name": "stdout",
     "output_type": "stream",
     "text": [
      "33320460.2007636\n"
     ]
    }
   ],
   "source": [
    "suma = 0\n",
    "licznik = 0\n",
    "for i in range(0,9999):\n",
    "    kwadrat = i*i\n",
    "    if kwadrat % 7 ==0 or kwadrat % 5 == 0:\n",
    "        licznik += 1\n",
    "        suma += kwadrat\n",
    "print(suma/licznik)"
   ]
  },
  {
   "cell_type": "markdown",
   "metadata": {},
   "source": [
    "funkcyjnie wyglądałoby to tak:"
   ]
  },
  {
   "cell_type": "code",
   "execution_count": 19,
   "metadata": {},
   "outputs": [
    {
     "name": "stdout",
     "output_type": "stream",
     "text": [
      "33320460.2007636\n"
     ]
    }
   ],
   "source": [
    "liczby = range(0,9999)\n",
    "kwadraty = map(lambda x: x*x, liczby)\n",
    "kwadraty_podzielna = filter(lambda x: x%5==0 or x%7==0, kwadraty)\n",
    "licznik, suma = reduce(lambda x,y : (x[0]+1, x[1]+y) , kwadraty_podzielna, (0,0) ) # (0,0) przekazane jako 3 parametr w reduce dokleja sie do tablicy od strony lewej\n",
    "# fajne ćwiczenie do domu by sobie rozpisać jak to się liczy,\n",
    "print(suma/licznik)"
   ]
  },
  {
   "cell_type": "markdown",
   "metadata": {},
   "source": [
    "Kod funkcyjny bez wcięć "
   ]
  },
  {
   "cell_type": "markdown",
   "metadata": {},
   "source": [
    "# Comprehension list\n",
    "\n",
    "Python posiada możliwość wyrażania kodu funkcyjnego (w pewnym zakresie), ale samo map i filter nie są za często spotykane w kodach Pythona. Jest tak dlatego, że python ma własną technikę ich zapisywania za pomocą tzw. comprehension list.\n",
    "\n",
    "Zamiast pisać kodu powyżej - doświadczony pythonista napisałby to \n"
   ]
  },
  {
   "cell_type": "code",
   "execution_count": 20,
   "metadata": {},
   "outputs": [
    {
     "name": "stdout",
     "output_type": "stream",
     "text": [
      "33320460.2007636\n"
     ]
    }
   ],
   "source": [
    "kwadraty = [ x*x for x in range(0,9999)] \n",
    "kwadraty_podzielna = [x for x in kwadraty if x%5==0 or x%7==0 ]\n",
    "licznik, suma = reduce(lambda x,y : (x[0]+1, x[1]+y) , kwadraty_podzielna, (0,0) ) # (0,0) przekazane jako 3 parametr w reduce dokleja sie do tablicy od strony lewej\n",
    "# fajne ćwiczenie do domu by sobie rozpisać jak to się liczy,\n",
    "print(suma/licznik)"
   ]
  },
  {
   "cell_type": "markdown",
   "metadata": {},
   "source": [
    "# Generatory\n",
    "\n",
    "Kolejnym ciekawym elementem który pojawia się w składni Pythona, gdy mówimy o programowaniu funkcyjnym są generatory. Generatory wykorzystują instrukcje pythona wyrażoną słowem kluczowym `yield`. Jego działanie jest odrobine specyficzne. Co zobaczymy na przykładzie"
   ]
  },
  {
   "cell_type": "code",
   "execution_count": 29,
   "metadata": {},
   "outputs": [],
   "source": [
    "def stworz_generator(lista):\n",
    "    for element in lista:\n",
    "        yield element\n",
    "\n",
    "generator = stworz_generator([1,4,5,7,14,15])"
   ]
  },
  {
   "cell_type": "code",
   "execution_count": 30,
   "metadata": {},
   "outputs": [
    {
     "name": "stdout",
     "output_type": "stream",
     "text": [
      "1\n"
     ]
    }
   ],
   "source": [
    "print(next(generator))"
   ]
  },
  {
   "cell_type": "code",
   "execution_count": 31,
   "metadata": {},
   "outputs": [
    {
     "name": "stdout",
     "output_type": "stream",
     "text": [
      "4\n"
     ]
    }
   ],
   "source": [
    "print(next(generator))"
   ]
  },
  {
   "cell_type": "code",
   "execution_count": 32,
   "metadata": {},
   "outputs": [
    {
     "name": "stdout",
     "output_type": "stream",
     "text": [
      "5\n"
     ]
    }
   ],
   "source": [
    "print(next(generator))"
   ]
  },
  {
   "cell_type": "markdown",
   "metadata": {},
   "source": [
    "Takiego generatora można użyć np. w pętli"
   ]
  },
  {
   "cell_type": "code",
   "execution_count": 33,
   "metadata": {},
   "outputs": [],
   "source": [
    "generator = stworz_generator('Na zajęciach z CMI było dziś o programowaniu funkcyjnym. Teraz poznajemy generatory'.split(' '))"
   ]
  },
  {
   "cell_type": "code",
   "execution_count": 34,
   "metadata": {},
   "outputs": [
    {
     "name": "stdout",
     "output_type": "stream",
     "text": [
      "Mam element Na\n",
      "Mam element zajęciach\n",
      "Mam element z\n",
      "Mam element CMI\n",
      "Mam element było\n",
      "Mam element dziś\n",
      "Mam element o\n",
      "Mam element programowaniu\n",
      "Mam element funkcyjnym.\n",
      "Mam element Teraz\n",
      "Mam element poznajemy\n",
      "Mam element generatory\n"
     ]
    }
   ],
   "source": [
    "for element in generator:\n",
    "    print(f'Mam element {element}')"
   ]
  },
  {
   "cell_type": "markdown",
   "metadata": {},
   "source": [
    "Generatory można jednak użyć do dużo ciekawszych rzeczy. Generowaniu nietrywialnych ciągów. Również tych potencjalnie nieskończonych !!\n",
    "\n",
    "Zaprezentujemy to na przykładzie generatora rzucającego kolejnymi liczbami pierwszymi"
   ]
  },
  {
   "cell_type": "code",
   "execution_count": 39,
   "metadata": {},
   "outputs": [],
   "source": [
    "def stworz_generator_liczb_pierwszych(debug=False):\n",
    "    candidate = 2\n",
    "    found = []\n",
    "    while True:\n",
    "        if debug:\n",
    "            print('.', end='')\n",
    "        if all(candidate % prime != 0 for prime in found): \n",
    "            yield candidate\n",
    "            found.append(candidate)\n",
    "        candidate += 1\n",
    "liczby_pierwsze = stworz_generator_liczb_pierwszych()"
   ]
  },
  {
   "cell_type": "code",
   "execution_count": 40,
   "metadata": {},
   "outputs": [
    {
     "name": "stdout",
     "output_type": "stream",
     "text": [
      "Kolejna liczna pierwsza to 2\n",
      "Kolejna liczna pierwsza to 3\n",
      "Kolejna liczna pierwsza to 5\n",
      "Kolejna liczna pierwsza to 7\n",
      "Kolejna liczna pierwsza to 11\n",
      "Kolejna liczna pierwsza to 13\n",
      "Kolejna liczna pierwsza to 17\n",
      "Kolejna liczna pierwsza to 19\n",
      "Kolejna liczna pierwsza to 23\n",
      "Kolejna liczna pierwsza to 29\n"
     ]
    }
   ],
   "source": [
    "for _, liczba in zip(range(10), liczby_pierwsze):\n",
    "    print(f'Kolejna liczna pierwsza to {liczba}')"
   ]
  },
  {
   "cell_type": "markdown",
   "metadata": {},
   "source": [
    "zauważmy ciekawą właściwość"
   ]
  },
  {
   "cell_type": "code",
   "execution_count": 42,
   "metadata": {},
   "outputs": [],
   "source": [
    "liczby_pierwsze_debugowane = stworz_generator_liczb_pierwszych(debug=True)"
   ]
  },
  {
   "cell_type": "code",
   "execution_count": 43,
   "metadata": {},
   "outputs": [
    {
     "name": "stdout",
     "output_type": "stream",
     "text": [
      "."
     ]
    },
    {
     "data": {
      "text/plain": [
       "2"
      ]
     },
     "execution_count": 43,
     "metadata": {},
     "output_type": "execute_result"
    }
   ],
   "source": [
    "next(liczby_pierwsze_debugowane)"
   ]
  },
  {
   "cell_type": "code",
   "execution_count": 44,
   "metadata": {},
   "outputs": [
    {
     "name": "stdout",
     "output_type": "stream",
     "text": [
      "."
     ]
    },
    {
     "data": {
      "text/plain": [
       "3"
      ]
     },
     "execution_count": 44,
     "metadata": {},
     "output_type": "execute_result"
    }
   ],
   "source": [
    "next(liczby_pierwsze_debugowane)"
   ]
  },
  {
   "cell_type": "code",
   "execution_count": 45,
   "metadata": {},
   "outputs": [
    {
     "name": "stdout",
     "output_type": "stream",
     "text": [
      ".."
     ]
    },
    {
     "data": {
      "text/plain": [
       "5"
      ]
     },
     "execution_count": 45,
     "metadata": {},
     "output_type": "execute_result"
    }
   ],
   "source": [
    "next(liczby_pierwsze_debugowane)"
   ]
  },
  {
   "cell_type": "code",
   "execution_count": 46,
   "metadata": {},
   "outputs": [
    {
     "name": "stdout",
     "output_type": "stream",
     "text": [
      ".."
     ]
    },
    {
     "data": {
      "text/plain": [
       "7"
      ]
     },
     "execution_count": 46,
     "metadata": {},
     "output_type": "execute_result"
    }
   ],
   "source": [
    "next(liczby_pierwsze_debugowane)"
   ]
  },
  {
   "cell_type": "code",
   "execution_count": 47,
   "metadata": {},
   "outputs": [
    {
     "name": "stdout",
     "output_type": "stream",
     "text": [
      "...."
     ]
    },
    {
     "data": {
      "text/plain": [
       "11"
      ]
     },
     "execution_count": 47,
     "metadata": {},
     "output_type": "execute_result"
    }
   ],
   "source": [
    "next(liczby_pierwsze_debugowane)"
   ]
  },
  {
   "cell_type": "markdown",
   "metadata": {},
   "source": [
    "Ktoś dostrzega co mam na myśli?"
   ]
  },
  {
   "cell_type": "code",
   "execution_count": 54,
   "metadata": {},
   "outputs": [],
   "source": [
    "liczby_pierwsze = stworz_generator_liczb_pierwszych()\n"
   ]
  },
  {
   "cell_type": "code",
   "execution_count": 55,
   "metadata": {},
   "outputs": [
    {
     "name": "stdout",
     "output_type": "stream",
     "text": [
      "CPU times: user 31 µs, sys: 3 µs, total: 34 µs\n",
      "Wall time: 38.1 µs\n"
     ]
    },
    {
     "data": {
      "text/plain": [
       "2"
      ]
     },
     "execution_count": 55,
     "metadata": {},
     "output_type": "execute_result"
    }
   ],
   "source": [
    "%%time\n",
    "next(liczby_pierwsze)"
   ]
  },
  {
   "cell_type": "code",
   "execution_count": 56,
   "metadata": {},
   "outputs": [],
   "source": [
    "for _, liczba in zip(range(5000), liczby_pierwsze):\n",
    "    pass"
   ]
  },
  {
   "cell_type": "code",
   "execution_count": 57,
   "metadata": {},
   "outputs": [
    {
     "name": "stdout",
     "output_type": "stream",
     "text": [
      "CPU times: user 10.9 ms, sys: 0 ns, total: 10.9 ms\n",
      "Wall time: 10.7 ms\n"
     ]
    },
    {
     "data": {
      "text/plain": [
       "48623"
      ]
     },
     "execution_count": 57,
     "metadata": {},
     "output_type": "execute_result"
    }
   ],
   "source": [
    "%%time\n",
    "next(liczby_pierwsze)"
   ]
  },
  {
   "cell_type": "code",
   "execution_count": 58,
   "metadata": {},
   "outputs": [
    {
     "name": "stdout",
     "output_type": "stream",
     "text": [
      "CPU times: user 10.7 ms, sys: 44 µs, total: 10.8 ms\n",
      "Wall time: 10.6 ms\n"
     ]
    },
    {
     "data": {
      "text/plain": [
       "48647"
      ]
     },
     "execution_count": 58,
     "metadata": {},
     "output_type": "execute_result"
    }
   ],
   "source": [
    "%%time\n",
    "next(liczby_pierwsze)"
   ]
  },
  {
   "cell_type": "code",
   "execution_count": 59,
   "metadata": {},
   "outputs": [
    {
     "name": "stdout",
     "output_type": "stream",
     "text": [
      "CPU times: user 9.68 ms, sys: 0 ns, total: 9.68 ms\n",
      "Wall time: 9.67 ms\n"
     ]
    },
    {
     "data": {
      "text/plain": [
       "48649"
      ]
     },
     "execution_count": 59,
     "metadata": {},
     "output_type": "execute_result"
    }
   ],
   "source": [
    "%%time\n",
    "next(liczby_pierwsze)"
   ]
  },
  {
   "cell_type": "markdown",
   "metadata": {},
   "source": [
    "# Przykład użycia generatorów - gra w karty"
   ]
  },
  {
   "cell_type": "code",
   "execution_count": 60,
   "metadata": {},
   "outputs": [],
   "source": [
    "from random import shuffle\n",
    "kolory = ['kier', 'trefl', 'karo', 'pik']\n",
    "figury = ['2', '3', '4', '5', '6', '7', '8', '9', '10', 'J', 'Q', 'K', 'A']\n",
    "\n",
    "\n",
    "class Karta(object):\n",
    "\n",
    "    def __init__(self, kolor, figura):\n",
    "        self.kolor = kolor\n",
    "        self.figura = figura\n",
    "\n",
    "    def __str__(self):\n",
    "        return f'{self.figura}-{self.kolor}'\n",
    "\n",
    "\n",
    "def utworz_talie():\n",
    "    return [Karta(kolor, figura) for figura in figury for kolor in kolory]\n",
    "\n",
    "\n",
    "def tasuj(talia):\n",
    "    return shuffle(talia)\n",
    "\n",
    "\n",
    "class Dealer(object):\n",
    "\n",
    "    def __init__(self, talia = None, shuffle = True):\n",
    "        if talia is None:\n",
    "            talia = utworz_talie()\n",
    "        if shuffle:\n",
    "            tasuj(talia)\n",
    "\n",
    "        def create_generator(talia):\n",
    "            while len(talia) > 0:\n",
    "                yield talia.pop(0)\n",
    "\n",
    "        self.generator = create_generator(talia)\n",
    "\n",
    "    def nastepna(self):\n",
    "        return next(self.generator)\n",
    "\n",
    "    def split(self, no_players=2, cards='all'):\n",
    "        result = [ [] for _ in range(no_players)]\n",
    "        i = 0\n",
    "        for card in self.generator:\n",
    "            result[i % no_players].append(card)\n",
    "            i += 1\n",
    "            if cards != 'all' and i >= cards:\n",
    "                break\n",
    "        return result\n",
    "\n",
    "\n",
    "d = Dealer()\n",
    "gracz1, gracz2, gracz3, gracz4 = d.split(no_players=4)"
   ]
  },
  {
   "cell_type": "code",
   "execution_count": 62,
   "metadata": {},
   "outputs": [
    {
     "data": {
      "text/plain": [
       "['5-karo',\n",
       " '2-kier',\n",
       " 'A-pik',\n",
       " '5-kier',\n",
       " 'J-kier',\n",
       " 'Q-trefl',\n",
       " '9-trefl',\n",
       " 'Q-karo',\n",
       " '8-kier',\n",
       " '7-karo',\n",
       " '3-trefl',\n",
       " 'J-pik',\n",
       " '3-pik']"
      ]
     },
     "execution_count": 62,
     "metadata": {},
     "output_type": "execute_result"
    }
   ],
   "source": [
    "[ str(karta) for karta in gracz1]"
   ]
  },
  {
   "cell_type": "code",
   "execution_count": 63,
   "metadata": {},
   "outputs": [
    {
     "data": {
      "text/plain": [
       "['9-karo',\n",
       " '5-trefl',\n",
       " '7-pik',\n",
       " 'J-karo',\n",
       " 'K-pik',\n",
       " '4-pik',\n",
       " '6-trefl',\n",
       " '4-kier',\n",
       " '10-trefl',\n",
       " 'A-trefl',\n",
       " '8-pik',\n",
       " 'Q-kier',\n",
       " '9-kier']"
      ]
     },
     "execution_count": 63,
     "metadata": {},
     "output_type": "execute_result"
    }
   ],
   "source": [
    "[ str(karta) for karta in gracz2]"
   ]
  },
  {
   "cell_type": "markdown",
   "metadata": {},
   "source": [
    "## Przykład - gra w Black Jacka"
   ]
  },
  {
   "cell_type": "code",
   "execution_count": 64,
   "metadata": {},
   "outputs": [
    {
     "name": "stdout",
     "output_type": "stream",
     "text": [
      "Runda 1\n",
      "Karty gracza   mają wartosc 14 : ['10-pik', '4-karo']\n",
      "Karty krupiera mają wartosc 5 : ['5-kier']\n",
      "<h> - hit, <s> - stand\n",
      "Runda 2\n",
      "Karty gracza   mają wartosc 22 : ['10-pik', '4-karo', '8-karo']\n",
      "Karty krupiera mają wartosc 22 : ['5-kier', '9-trefl', '8-kier']\n",
      "Remis\n"
     ]
    }
   ],
   "source": [
    "from random import shuffle\n",
    "kolory = ['kier', 'trefl', 'karo', 'pik']\n",
    "figury = ['2', '3', '4', '5', '6', '7', '8', '9', '10', 'J', 'Q', 'K', 'A']\n",
    "\n",
    "\n",
    "class Karta(object):\n",
    "\n",
    "    def __init__(self, kolor, figura):\n",
    "        self.kolor = kolor\n",
    "        self.figura = figura\n",
    "\n",
    "    def __str__(self):\n",
    "        return f'{self.figura}-{self.kolor}'\n",
    "\n",
    "    def wartosc(self):\n",
    "        if self.figura in ['2', '3', '4', '5', '6', '7', '8', '9', '10' ]:\n",
    "            return [int(self.figura)]\n",
    "        if self.figura in ['J', 'Q', 'K']:\n",
    "            return [10]\n",
    "        if self.figura == 'A':\n",
    "            return [1,11]\n",
    "\n",
    "\n",
    "def utworz_talie():\n",
    "    return [Karta(kolor, figura) for figura in figury for kolor in kolory]\n",
    "\n",
    "\n",
    "def tasuj(talia):\n",
    "    return shuffle(talia)\n",
    "\n",
    "def wartosc_kart(talia :list[Karta]):\n",
    "    wartosc = [0]\n",
    "    for karta in talia:\n",
    "        n_wartosc = karta.wartosc()\n",
    "        wartosc = [ w+v for w in n_wartosc for v in wartosc ]\n",
    "    wartosci_dopuszczalne = [w for w in wartosc if w <= 21]\n",
    "    warunek_przekroczenia_oczka = len(wartosci_dopuszczalne) == 0\n",
    "    if warunek_przekroczenia_oczka:\n",
    "        return min(wartosc)\n",
    "    else:\n",
    "        return max(wartosci_dopuszczalne)\n",
    "\n",
    "class Dealer(object):\n",
    "\n",
    "    def __init__(self, talia = None, shuffle = True):\n",
    "        if talia is None:\n",
    "            talia = utworz_talie()\n",
    "        if shuffle:\n",
    "            tasuj(talia)\n",
    "\n",
    "        def create_generator(talia):\n",
    "            while len(talia) > 0:\n",
    "                yield talia.pop(0)\n",
    "\n",
    "        self.generator = create_generator(talia)\n",
    "\n",
    "    def nastepna(self):\n",
    "        return next(self.generator)\n",
    "\n",
    "oczko = 21\n",
    "krupier_strategia_limit = 17\n",
    "\n",
    "\n",
    "class GraBlackJack(object):\n",
    "\n",
    "    def __init__(self, ilosc_talii=1):\n",
    "        talia = utworz_talie()\n",
    "        if ilosc_talii > 1:\n",
    "            talia = [ karta for karta in talia for _ in range(ilosc_talii) ]\n",
    "        self.dealer = Dealer(talia, shuffle=True)\n",
    "        self.gracz = [self.dealer.nastepna() for _ in range(2)]\n",
    "        self.gracz_pass = False\n",
    "        self.krupier = [self.dealer.nastepna()]\n",
    "        self.krupier_pass = False\n",
    "        self.runda = 1\n",
    "\n",
    "    def stan_gry(self):\n",
    "        print(f'Runda {self.runda}')\n",
    "        print(f'Karty gracza   mają wartosc {wartosc_kart(self.gracz)} : {[str(karta) for karta in self.gracz]}')\n",
    "        print(f'Karty krupiera mają wartosc {wartosc_kart(self.krupier)} : {[str(karta) for karta in self.krupier]}')\n",
    "\n",
    "    def koniec_gry(self):\n",
    "        gracz = wartosc_kart(self.gracz)\n",
    "        krupier = wartosc_kart(self.krupier)\n",
    "        return (gracz > oczko or krupier > oczko) or (self.gracz_pass and self.krupier_pass)\n",
    "\n",
    "    def wynik_gry(self):\n",
    "        gracz = wartosc_kart(self.gracz)\n",
    "        krupier = wartosc_kart(self.krupier)\n",
    "        if gracz > oczko and krupier > oczko:\n",
    "            return 'Remis'\n",
    "        elif gracz > oczko:\n",
    "            return 'Krupier'\n",
    "        elif krupier > oczko:\n",
    "            return 'Gracz'\n",
    "        elif gracz == krupier:\n",
    "            return 'Remis'\n",
    "        elif gracz > krupier:\n",
    "            return 'Gracz'\n",
    "        else:\n",
    "            return 'Krupier'\n",
    "\n",
    "    def graj_runde(self):\n",
    "        self.stan_gry()\n",
    "        if self.koniec_gry():\n",
    "            print(self.wynik_gry())\n",
    "            return False\n",
    "        else:\n",
    "            print('<h> - hit, <s> - stand')\n",
    "            ruch = input('>')\n",
    "            while ruch not in ('h','s'):\n",
    "                ruch = input('>')\n",
    "            self.runda += 1\n",
    "            if ruch == 's':\n",
    "                self.gracz_pass = True\n",
    "            else:\n",
    "                self.gracz.append(self.dealer.nastepna())\n",
    "            # gra krupiera\n",
    "            if wartosc_kart(self.gracz) > oczko or self.gracz_pass:\n",
    "                while wartosc_kart(self.krupier) <= oczko:\n",
    "                    self.krupier.append(self.dealer.nastepna())\n",
    "                    if wartosc_kart(self.krupier) >= krupier_strategia_limit:\n",
    "                        self.krupier_pass = True\n",
    "                        break\n",
    "        return True\n",
    "\n",
    "    def graj(self):\n",
    "        while self.graj_runde():\n",
    "            pass\n",
    "\n",
    "\n",
    "gra = GraBlackJack()\n",
    "\n",
    "gra.graj()"
   ]
  },
  {
   "cell_type": "code",
   "execution_count": 65,
   "metadata": {},
   "outputs": [
    {
     "name": "stdout",
     "output_type": "stream",
     "text": [
      "Runda 2\n",
      "Karty gracza   mają wartosc 22 : ['10-pik', '4-karo', '8-karo']\n",
      "Karty krupiera mają wartosc 22 : ['5-kier', '9-trefl', '8-kier']\n",
      "Remis\n"
     ]
    }
   ],
   "source": [
    "gra.graj()"
   ]
  },
  {
   "cell_type": "code",
   "execution_count": 70,
   "metadata": {},
   "outputs": [
    {
     "name": "stdout",
     "output_type": "stream",
     "text": [
      "Runda 1\n",
      "Karty gracza   mają wartosc 18 : ['K-pik', '8-trefl']\n",
      "Karty krupiera mają wartosc 10 : ['10-trefl']\n",
      "<h> - hit, <s> - stand\n",
      "Runda 2\n",
      "Karty gracza   mają wartosc 18 : ['K-pik', '8-trefl']\n",
      "Karty krupiera mają wartosc 26 : ['10-trefl', '6-pik', 'Q-pik']\n",
      "Gracz\n"
     ]
    }
   ],
   "source": [
    "gra = GraBlackJack()\n",
    "\n",
    "gra.graj()"
   ]
  },
  {
   "cell_type": "code",
   "execution_count": null,
   "metadata": {},
   "outputs": [],
   "source": []
  }
 ],
 "metadata": {
  "kernelspec": {
   "display_name": "Python 3.9.13 ('base')",
   "language": "python",
   "name": "python3"
  },
  "language_info": {
   "codemirror_mode": {
    "name": "ipython",
    "version": 3
   },
   "file_extension": ".py",
   "mimetype": "text/x-python",
   "name": "python",
   "nbconvert_exporter": "python",
   "pygments_lexer": "ipython3",
   "version": "3.9.13"
  },
  "orig_nbformat": 4,
  "vscode": {
   "interpreter": {
    "hash": "40d3a090f54c6569ab1632332b64b2c03c39dcf918b08424e98f38b5ae0af88f"
   }
  }
 },
 "nbformat": 4,
 "nbformat_minor": 2
}
